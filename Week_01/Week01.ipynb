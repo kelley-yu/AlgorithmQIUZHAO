{
 "cells": [
  {
   "cell_type": "markdown",
   "metadata": {},
   "source": [
    "### --------------------------------------------------------------- 简单难度开始-------------------------------------------------------------------"
   ]
  },
  {
   "cell_type": "markdown",
   "metadata": {},
   "source": [
    "# leetcode26：删除排序数组中的重复项"
   ]
  },
  {
   "cell_type": "markdown",
   "metadata": {},
   "source": [
    "### 题目描述："
   ]
  },
  {
   "cell_type": "markdown",
   "metadata": {},
   "source": [
    "给定一个排序数组，你需要在 原地 删除重复出现的元素，使得每个元素只出现一次，返回移除后数组的新长度。\n",
    "\n",
    "不要使用额外的数组空间，你必须在 原地 修改输入数组 并在使用 O(1) 额外空间的条件下完成。"
   ]
  },
  {
   "cell_type": "markdown",
   "metadata": {},
   "source": [
    "    1. 初始化：i指向nums[0],再用j遍历数组1~size\n",
    "    2. if nums[i] == nums[j]：则将i后移一格，并将nums[j]和nums[i]值互换\n",
    "    3. 不重复元素的长度为i + 1"
   ]
  },
  {
   "cell_type": "code",
   "execution_count": 2,
   "metadata": {},
   "outputs": [],
   "source": [
    "class Solution:\n",
    "    def removeDuplicates(self, nums):\n",
    "        if not nums: return 0\n",
    "        i, size = 0, len(nums)\n",
    "        for j in range(1, size):\n",
    "            if nums[i] != nums[j]:\n",
    "                i += 1\n",
    "                nums[i] = nums[j]\n",
    "        return i + 1"
   ]
  },
  {
   "cell_type": "code",
   "execution_count": 3,
   "metadata": {},
   "outputs": [
    {
     "data": {
      "text/plain": [
       "5"
      ]
     },
     "execution_count": 3,
     "metadata": {},
     "output_type": "execute_result"
    }
   ],
   "source": [
    "a = Solution()\n",
    "a.removeDuplicates([0,0,1,1,1,2,2,3,3,4])"
   ]
  },
  {
   "cell_type": "markdown",
   "metadata": {},
   "source": [
    "# leetcode189：旋转数组"
   ]
  },
  {
   "cell_type": "markdown",
   "metadata": {},
   "source": [
    "### 题目描述："
   ]
  },
  {
   "cell_type": "markdown",
   "metadata": {},
   "source": [
    "给定一个数组，将数组中的元素向右移动 k 个位置，其中 k 是非负数。\n",
    "\n",
    "    输入: [1,2,3,4,5,6,7] 和 k = 3\n",
    "\n",
    "    输出: [5,6,7,1,2,3,4]\n",
    "\n",
    "    解释:\n",
    "\n",
    "    向右旋转 1 步: [7,1,2,3,4,5,6]\n",
    "\n",
    "    向右旋转 2 步: [6,7,1,2,3,4,5]\n",
    "\n",
    "    向右旋转 3 步: [5,6,7,1,2,3,4]\n"
   ]
  },
  {
   "cell_type": "markdown",
   "metadata": {},
   "source": [
    "说明:\n",
    "\n",
    "    尽可能想出更多的解决方案，至少有三种不同的方法可以解决这个问题。\n",
    "\n",
    "    要求使用空间复杂度为 O(1) 的 原地 算法。"
   ]
  },
  {
   "cell_type": "code",
   "execution_count": 6,
   "metadata": {},
   "outputs": [
    {
     "data": {
      "text/plain": [
       "[5, 6, 7, 1, 2, 3, 4]"
      ]
     },
     "execution_count": 6,
     "metadata": {},
     "output_type": "execute_result"
    }
   ],
   "source": [
    "#切片\n",
    "nums = [1,2,3,4,5,6,7]\n",
    "size = len(nums)\n",
    "k = 3\n",
    "nums[k+1:size] + nums[:k+1]"
   ]
  },
  {
   "cell_type": "code",
   "execution_count": 11,
   "metadata": {},
   "outputs": [],
   "source": [
    "#三次旋转\n",
    "class Solution:\n",
    "    def rotate(self, nums, k):\n",
    "        \"\"\"\n",
    "        Do not return anything, modify nums in-place instead.\n",
    "        \"\"\"\n",
    "        if not nums: return []\n",
    "        size = len(nums)\n",
    "        k = k % size\n",
    "        def swap(l, r):\n",
    "            while l < r:\n",
    "                nums[l], nums[r] = nums[r], nums[l]\n",
    "                l += 1\n",
    "                r -= 1\n",
    "        swap(0, size - k - 1)\n",
    "        swap(size - k, size - 1)\n",
    "        swap(0, size - 1)\n",
    "        return nums"
   ]
  },
  {
   "cell_type": "code",
   "execution_count": 12,
   "metadata": {},
   "outputs": [
    {
     "data": {
      "text/plain": [
       "[5, 6, 7, 1, 2, 3, 4]"
      ]
     },
     "execution_count": 12,
     "metadata": {},
     "output_type": "execute_result"
    }
   ],
   "source": [
    "a = Solution()\n",
    "a.rotate([1,2,3,4,5,6,7], 3)"
   ]
  },
  {
   "cell_type": "code",
   "execution_count": 14,
   "metadata": {},
   "outputs": [
    {
     "data": {
      "text/plain": [
       "[5, 6, 7, 1, 2, 3, 4]"
      ]
     },
     "execution_count": 14,
     "metadata": {},
     "output_type": "execute_result"
    }
   ],
   "source": [
    "#删除，再插入\n",
    "nums = [1,2,3,4,5,6,7]\n",
    "k = 3\n",
    "size = len(nums)\n",
    "k = k % size\n",
    "for i in range(k):\n",
    "    nums.insert(0, nums.pop())\n",
    "nums"
   ]
  },
  {
   "cell_type": "markdown",
   "metadata": {},
   "source": [
    "# leetcode21：合并两个有序链表"
   ]
  },
  {
   "cell_type": "markdown",
   "metadata": {},
   "source": [
    "### 题目描述："
   ]
  },
  {
   "cell_type": "markdown",
   "metadata": {},
   "source": [
    "将两个升序链表合并为一个新的 升序 链表并返回。新链表是通过拼接给定的两个链表的所有节点组成的。 \n",
    "\n",
    "示例：\n",
    "\n",
    "    输入：1->2->4, 1->3->4\n",
    "    输出：1->1->2->3->4->4"
   ]
  },
  {
   "cell_type": "code",
   "execution_count": 18,
   "metadata": {},
   "outputs": [],
   "source": [
    "# Definition for singly-linked list.\n",
    "# class ListNode:\n",
    "#     def __init__(self, val=0, next=None):\n",
    "#         self.val = val\n",
    "#         self.next = next\n",
    "class Solution:\n",
    "    def mergeTwoLists(self, l1, l2):\n",
    "        if not l1: return l2\n",
    "        if not l2: return l1\n",
    "        ans = ListNode(-1)\n",
    "        prev = ans\n",
    "        while l1 and l2:\n",
    "            if l1.val <= l2.val:\n",
    "                prev.next = l1\n",
    "                l1 = l1.next\n",
    "            else:\n",
    "                prev.next = l2\n",
    "                l2 = l2.next\n",
    "            prev = prev.next\n",
    "        prev.next = l2 if l2 is not None else l1\n",
    "        return ans.next"
   ]
  },
  {
   "cell_type": "markdown",
   "metadata": {},
   "source": [
    "# leetcode88：合并两个有序数组"
   ]
  },
  {
   "cell_type": "markdown",
   "metadata": {},
   "source": [
    "### 题目描述："
   ]
  },
  {
   "cell_type": "markdown",
   "metadata": {},
   "source": [
    "给你两个有序整数数组 nums1 和 nums2，请你将 nums2 合并到 nums1 中，使 nums1 成为一个有序数组。\n",
    "\n",
    " \n",
    "\n",
    "说明:\n",
    "\n",
    "    初始化 nums1 和 nums2 的元素数量分别为 m 和 n 。\n",
    "\n",
    "    你可以假设 nums1 有足够的空间（空间大小大于或等于 m + n）来保存 nums2 中的元素。\n",
    "\n"
   ]
  },
  {
   "cell_type": "code",
   "execution_count": 26,
   "metadata": {},
   "outputs": [],
   "source": [
    "class Solution:\n",
    "    def merge(self, nums1, m, nums2, n):\n",
    "        \"\"\"\n",
    "        Do not return anything, modify nums1 in-place instead.\n",
    "        \"\"\"\n",
    "        p1, p2, p = m - 1, n - 1, m + n - 1\n",
    "        while p1 >= 0 and p2 >= 0:\n",
    "            if nums1[p1] > nums2[p2]:\n",
    "                nums1[p] = nums1[p1]\n",
    "                p1 -= 1\n",
    "            else:\n",
    "                nums1[p] = nums2[p2]\n",
    "                p2 -= 1\n",
    "            p -= 1\n",
    "        nums1[:p2 + 1] = nums2[: p2 + 1] #当p1率先为-1，需将nums2中剩余元素加入nums1\n",
    "        return nums1"
   ]
  },
  {
   "cell_type": "code",
   "execution_count": 28,
   "metadata": {},
   "outputs": [
    {
     "data": {
      "text/plain": [
       "[1, 2, 2, 3, 5, 6]"
      ]
     },
     "execution_count": 28,
     "metadata": {},
     "output_type": "execute_result"
    }
   ],
   "source": [
    "a = Solution()\n",
    "a.merge([2,3,0,0,0,0], 2, [1,2,5,6], 4)"
   ]
  },
  {
   "cell_type": "markdown",
   "metadata": {},
   "source": [
    "# leetcode1：两数之和"
   ]
  },
  {
   "cell_type": "markdown",
   "metadata": {},
   "source": [
    "给定一个整数数组 nums 和一个目标值 target，请你在该数组中找出和为目标值的那 两个 整数，并返回他们的数组下标。\n",
    "\n",
    "你可以假设每种输入只会对应一个答案。但是，数组中同一个元素不能使用两遍。\n",
    "\n",
    " \n",
    "\n",
    "示例:\n",
    "\n",
    "    给定 nums = [2, 7, 11, 15], target = 9\n",
    "\n",
    "    因为 nums[0] + nums[1] = 2 + 7 = 9\n",
    "\n",
    "    所以返回 [0, 1]\n"
   ]
  },
  {
   "cell_type": "markdown",
   "metadata": {},
   "source": [
    "1. 暴力求解：2个 for loop 判断每两个元素之和是否等于target\n",
    "2. 运用哈希表，将target - nums[i]存放在字典中，值为当前下标i"
   ]
  },
  {
   "cell_type": "code",
   "execution_count": 31,
   "metadata": {},
   "outputs": [],
   "source": [
    "class Solution:\n",
    "    def twoSum(self, nums, target):\n",
    "        dic = {}\n",
    "        size = len(nums)\n",
    "        for i in range(size):\n",
    "            tmp = target - nums[i]\n",
    "            if nums[i] in dic:\n",
    "                return [i, dic[nums[i]]]\n",
    "            dic[tmp] = i"
   ]
  },
  {
   "cell_type": "code",
   "execution_count": 34,
   "metadata": {},
   "outputs": [
    {
     "data": {
      "text/plain": [
       "[2, 1]"
      ]
     },
     "execution_count": 34,
     "metadata": {},
     "output_type": "execute_result"
    }
   ],
   "source": [
    "a = Solution()\n",
    "a.twoSum([3,2,4], 6)"
   ]
  },
  {
   "cell_type": "markdown",
   "metadata": {},
   "source": [
    "# leetcode283：移动零"
   ]
  },
  {
   "cell_type": "markdown",
   "metadata": {},
   "source": [
    "给定一个数组 nums，编写一个函数将所有 0 移动到数组的末尾，同时保持非零元素的相对顺序。\n",
    "\n",
    "示例:\n",
    "\n",
    "    输入: [0,1,0,3,12]\n",
    "    \n",
    "    输出: [1,3,12,0,0]\n",
    "\n",
    "说明:\n",
    "\n",
    "    必须在原数组上操作，不能拷贝额外的数组。\n",
    "\n",
    "    尽量减少操作次数。\n"
   ]
  },
  {
   "cell_type": "code",
   "execution_count": 36,
   "metadata": {},
   "outputs": [],
   "source": [
    "class Solution:\n",
    "    def moveZeroes(self, nums):\n",
    "        \"\"\"\n",
    "        Do not return anything, modify nums in-place instead.\n",
    "        \"\"\"\n",
    "        i = 0\n",
    "        for j in range(len(nums)):\n",
    "            if nums[j] != 0:\n",
    "                nums[i], nums[j] = nums[j], nums[i]\n",
    "                i += 1\n",
    "        return nums"
   ]
  },
  {
   "cell_type": "code",
   "execution_count": 37,
   "metadata": {},
   "outputs": [
    {
     "data": {
      "text/plain": [
       "[1, 3, 12, 0, 0]"
      ]
     },
     "execution_count": 37,
     "metadata": {},
     "output_type": "execute_result"
    }
   ],
   "source": [
    "a = Solution()\n",
    "a.moveZeroes([0,1,0,3,12])"
   ]
  },
  {
   "cell_type": "markdown",
   "metadata": {},
   "source": [
    "# leetcode66：加一"
   ]
  },
  {
   "cell_type": "markdown",
   "metadata": {},
   "source": [
    "### 题目描述："
   ]
  },
  {
   "cell_type": "markdown",
   "metadata": {},
   "source": [
    "给定一个由整数组成的非空数组所表示的非负整数，在该数的基础上加一。\n",
    "\n",
    "最高位数字存放在数组的首位， 数组中每个元素只存储单个数字。\n",
    "\n",
    "你可以假设除了整数 0 之外，这个整数不会以零开头。\n",
    "\n",
    "示例 1:\n",
    "\n",
    "    输入: [1,2,3]\n",
    "        \n",
    "    输出: [1,2,4]\n",
    "    \n",
    "    解释: 输入数组表示数字 123。\n",
    "    \n",
    "示例 2:\n",
    "\n",
    "    输入: [4,3,2,1]\n",
    "    \n",
    "    输出: [4,3,2,2]\n",
    "    \n",
    "    解释: 输入数组表示数字 4321。\n"
   ]
  },
  {
   "cell_type": "code",
   "execution_count": 40,
   "metadata": {},
   "outputs": [],
   "source": [
    "class Solution:\n",
    "    def plusOne(self, digits):\n",
    "        size = len(digits)\n",
    "        for i in range(size-1, -1, -1):\n",
    "            if digits[i] != 9:\n",
    "                digits[i] += 1\n",
    "                return digits\n",
    "            digits[i] = 0\n",
    "        return [1] + digits"
   ]
  },
  {
   "cell_type": "code",
   "execution_count": 41,
   "metadata": {},
   "outputs": [
    {
     "data": {
      "text/plain": [
       "[1, 0]"
      ]
     },
     "execution_count": 41,
     "metadata": {},
     "output_type": "execute_result"
    }
   ],
   "source": [
    "a = Solution()\n",
    "a.plusOne([9])"
   ]
  },
  {
   "cell_type": "markdown",
   "metadata": {},
   "source": [
    "# leetcode242：有效的字母异位词"
   ]
  },
  {
   "cell_type": "markdown",
   "metadata": {},
   "source": [
    "### 题目描述："
   ]
  },
  {
   "cell_type": "markdown",
   "metadata": {},
   "source": [
    "给定两个字符串 s 和 t ，编写一个函数来判断 t 是否是 s 的字母异位词。\n",
    "\n",
    "示例 1:\n",
    "\n",
    "    输入: s = \"anagram\", t = \"nagaram\"\n",
    "    \n",
    "    输出: true\n",
    "    \n",
    "示例 2:   \n",
    "    \n",
    "    输入: s = \"rat\", t = \"car\"\n",
    "    \n",
    "    输出: false"
   ]
  },
  {
   "cell_type": "markdown",
   "metadata": {},
   "source": [
    "    1. 哈希表，将所有s中元素放入哈希表中，再遍历字符串t，若最终哈希表中所有元素值都为0，则True；否则False\n",
    "    2. 排序，若排序后，s和t相同，则True；否则False\n",
    "    3. 将s和t去重（set），判断s、t各字符是否一致，再统计s、t各字符数量是否一致"
   ]
  },
  {
   "cell_type": "code",
   "execution_count": 54,
   "metadata": {},
   "outputs": [],
   "source": [
    "#哈希表\n",
    "class Solution:\n",
    "    def isAnagram(self, s: str, t: str) -> bool:\n",
    "        dic = {}\n",
    "        for i in s:\n",
    "            if i not in dic: dic[i] = 1\n",
    "            else: dic[i] += 1\n",
    "        for j in t:\n",
    "            if j not in dic: return False\n",
    "            else: dic[j] -= 1\n",
    "        for k in dic.keys():\n",
    "            if dic[k] != 0:\n",
    "                return False\n",
    "        return True"
   ]
  },
  {
   "cell_type": "code",
   "execution_count": 53,
   "metadata": {},
   "outputs": [],
   "source": [
    "#排序\n",
    "class Solution:\n",
    "    def isAnagram(self, s: str, t: str) -> bool:\n",
    "        return sorted(list(s)) == sorted(list(t)) "
   ]
  },
  {
   "cell_type": "code",
   "execution_count": 55,
   "metadata": {},
   "outputs": [],
   "source": [
    "#3\n",
    "class Solution:\n",
    "    def isAnagram(self, s: str, t: str) -> bool:\n",
    "        set_s = set(s)\n",
    "        set_t = set(t)\n",
    "        if set_s == set_t:\n",
    "            for i in set_s:\n",
    "                if s.count(i) != t.count(i):\n",
    "                    return False\n",
    "            return True\n",
    "        return False"
   ]
  },
  {
   "cell_type": "markdown",
   "metadata": {},
   "source": [
    "### --------------------------------------------------------------- 中等难度开始-------------------------------------------------------------------"
   ]
  },
  {
   "cell_type": "markdown",
   "metadata": {},
   "source": [
    "# leetcode641：设计循环双端队列"
   ]
  },
  {
   "cell_type": "markdown",
   "metadata": {},
   "source": [
    "设计实现双端队列。\n",
    "\n",
    "你的实现需要支持以下操作：\n",
    "\n",
    "    MyCircularDeque(k)：构造函数,双端队列的大小为k。\n",
    "    insertFront()：将一个元素添加到双端队列头部。 如果操作成功返回 true。\n",
    "    insertLast()：将一个元素添加到双端队列尾部。如果操作成功返回 true。\n",
    "    deleteFront()：从双端队列头部删除一个元素。 如果操作成功返回 true。\n",
    "    deleteLast()：从双端队列尾部删除一个元素。如果操作成功返回 true。\n",
    "    getFront()：从双端队列头部获得一个元素。如果双端队列为空，返回 -1。\n",
    "    getRear()：获得双端队列的最后一个元素。 如果双端队列为空，返回 -1。\n",
    "    isEmpty()：检查双端队列是否为空。\n",
    "    isFull()：检查双端队列是否满了。\n",
    "示例：\n",
    "\n",
    "    MyCircularDeque circularDeque = new MycircularDeque(3); // 设置容量大小为3\n",
    "    circularDeque.insertLast(1);\t\t\t        // 返回 true\n",
    "    circularDeque.insertLast(2);\t\t\t        // 返回 true\n",
    "    circularDeque.insertFront(3);\t\t\t        // 返回 true\n",
    "    circularDeque.insertFront(4);\t\t\t        // 已经满了，返回 false\n",
    "    circularDeque.getRear();  \t\t\t\t        // 返回 2\n",
    "    circularDeque.isFull();\t\t\t\t          // 返回 true\n",
    "    circularDeque.deleteLast();\t\t\t         // 返回 true\n",
    "    circularDeque.insertFront(4);\t\t\t      // 返回 true\n",
    "    circularDeque.getFront();\t\t\t\t     // 返回 4\n",
    " \n",
    " \n",
    "\n",
    "提示：\n",
    "\n",
    "    所有值的范围为 [1, 1000]\n",
    "    操作次数的范围为 [1, 1000]\n",
    "    请不要使用内置的双端队列库。"
   ]
  },
  {
   "cell_type": "code",
   "execution_count": 15,
   "metadata": {},
   "outputs": [],
   "source": [
    "class MyCircularDeque:\n",
    "    from collections import deque\n",
    "    def __init__(self, k: int):\n",
    "        \"\"\"\n",
    "        Initialize your data structure here. Set the size of the deque to be k.\n",
    "        \"\"\"\n",
    "        self.deque = deque(maxlen = k)\n",
    "\n",
    "    def insertFront(self, value: int) -> bool:\n",
    "        \"\"\"\n",
    "        Adds an item at the front of Deque. Return true if the operation is successful.\n",
    "        \"\"\"\n",
    "        if len(self.deque) < self.deque.maxlen:\n",
    "            self.deque.appendleft(value)\n",
    "            return True\n",
    "        else: return False\n",
    "\n",
    "    def insertLast(self, value: int) -> bool:\n",
    "        \"\"\"\n",
    "        Adds an item at the rear of Deque. Return true if the operation is successful.\n",
    "        \"\"\"\n",
    "        if len(self.deque) < self.deque.maxlen:\n",
    "            self.deque.append(value)\n",
    "            return True\n",
    "        else: return False\n",
    "\n",
    "    def deleteFront(self) -> bool:\n",
    "        \"\"\"\n",
    "        Deletes an item from the front of Deque. Return true if the operation is successful.\n",
    "        \"\"\"\n",
    "        if self.deque:\n",
    "            self.deque.popleft()\n",
    "            return True\n",
    "        return False\n",
    "\n",
    "    def deleteLast(self) -> bool:\n",
    "        \"\"\"\n",
    "        Deletes an item from the rear of Deque. Return true if the operation is successful.\n",
    "        \"\"\"\n",
    "        if self.deque:\n",
    "            self.deque.pop()\n",
    "            return True\n",
    "        return False\n",
    "\n",
    "    def getFront(self) -> int:\n",
    "        \"\"\"\n",
    "        Get the front item from the deque.\n",
    "        \"\"\"\n",
    "        if self.deque: return self.deque[0]\n",
    "        else: return -1\n",
    "\n",
    "    def getRear(self) -> int:\n",
    "        \"\"\"\n",
    "        Get the last item from the deque.\n",
    "        \"\"\"\n",
    "        if self.deque: return self.deque[-1]\n",
    "        else: return -1\n",
    "\n",
    "    def isEmpty(self) -> bool:\n",
    "        \"\"\"\n",
    "        Checks whether the circular deque is empty or not.\n",
    "        \"\"\"\n",
    "        return not self.deque\n",
    "\n",
    "    def isFull(self) -> bool:\n",
    "        \"\"\"\n",
    "        Checks whether the circular deque is full or not.\n",
    "        \"\"\"\n",
    "        return len(self.deque) == self.deque.maxlen\n",
    "\n",
    "\n",
    "# Your MyCircularDeque object will be instantiated and called as such:\n",
    "# obj = MyCircularDeque(k)\n",
    "# param_1 = obj.insertFront(value)\n",
    "# param_2 = obj.insertLast(value)\n",
    "# param_3 = obj.deleteFront()\n",
    "# param_4 = obj.deleteLast()\n",
    "# param_5 = obj.getFront()\n",
    "# param_6 = obj.getRear()\n",
    "# param_7 = obj.isEmpty()\n",
    "# param_8 = obj.isFull()"
   ]
  },
  {
   "cell_type": "markdown",
   "metadata": {},
   "source": [
    "# leetcode49：字母异位词分组"
   ]
  },
  {
   "cell_type": "markdown",
   "metadata": {},
   "source": [
    "给定一个字符串数组，将字母异位词组合在一起。字母异位词指字母相同，但排列不同的字符串。\n",
    "\n",
    "示例:\n",
    "\n",
    "    输入: [\"eat\", \"tea\", \"tan\", \"ate\", \"nat\", \"bat\"]\n",
    "    输出:\n",
    "    [\n",
    "      [\"ate\",\"eat\",\"tea\"],\n",
    "      [\"nat\",\"tan\"],\n",
    "      [\"bat\"]\n",
    "    ]\n",
    "说明：\n",
    "\n",
    "    所有输入均为小写字母。\n",
    "    不考虑答案输出的顺序。\n"
   ]
  },
  {
   "cell_type": "markdown",
   "metadata": {},
   "source": [
    "哈希表解法：\n",
    "    \n",
    "    dict.setdefault(a, b)函数：若字典dict中有key为a项，则返回该键对应的值；若不存在，则dict[a] = b，并返回新设置的值"
   ]
  },
  {
   "cell_type": "code",
   "execution_count": 3,
   "metadata": {},
   "outputs": [],
   "source": [
    "class Solution:\n",
    "    def groupAnagrams(self, strs):\n",
    "        dic = {}\n",
    "        ans = []\n",
    "        for i in strs:\n",
    "            dic.setdefault(str(sorted(i)), []).append(i)\n",
    "        for j in dic.keys():\n",
    "            ans.append(dic[j])\n",
    "        return ans"
   ]
  },
  {
   "cell_type": "code",
   "execution_count": 4,
   "metadata": {},
   "outputs": [
    {
     "data": {
      "text/plain": [
       "[['eat', 'tea', 'ate'], ['tan', 'nat'], ['bat']]"
      ]
     },
     "execution_count": 4,
     "metadata": {},
     "output_type": "execute_result"
    }
   ],
   "source": [
    "a = Solution()\n",
    "a.groupAnagrams([\"eat\",\"tea\",\"tan\",\"ate\",\"nat\",\"bat\"])"
   ]
  },
  {
   "cell_type": "markdown",
   "metadata": {},
   "source": [
    "解法二：defaultdict"
   ]
  },
  {
   "cell_type": "code",
   "execution_count": 12,
   "metadata": {},
   "outputs": [
    {
     "data": {
      "text/plain": [
       "defaultdict(list,\n",
       "            {('a', 'e', 't'): ['eat', 'tea', 'ate'],\n",
       "             ('a', 'n', 't'): ['tan', 'nat'],\n",
       "             ('a', 'b', 't'): ['bat']})"
      ]
     },
     "execution_count": 12,
     "metadata": {},
     "output_type": "execute_result"
    }
   ],
   "source": [
    "import collections\n",
    "strs = [\"eat\",\"tea\",\"tan\",\"ate\",\"nat\",\"bat\"]\n",
    "ans = collections.defaultdict(list)\n",
    "for s in strs:\n",
    "    ans[tuple(sorted(s))].append(s)\n",
    "ans"
   ]
  },
  {
   "cell_type": "markdown",
   "metadata": {},
   "source": [
    "### --------------------------------------------------------------- 困难难度开始-------------------------------------------------------------------"
   ]
  },
  {
   "cell_type": "markdown",
   "metadata": {},
   "source": [
    "# leetcode42：接雨水"
   ]
  },
  {
   "cell_type": "markdown",
   "metadata": {},
   "source": [
    "### 题目描述："
   ]
  },
  {
   "cell_type": "markdown",
   "metadata": {},
   "source": [
    "给定 n 个非负整数表示每个宽度为 1 的柱子的高度图，计算按此排列的柱子，下雨之后能接多少雨水。\n",
    "\n",
    "示例:\n",
    "    \n",
    "    输入: [0,1,0,2,1,0,1,3,2,1,2,1]\n",
    "    输出: 6\n",
    "\n"
   ]
  },
  {
   "cell_type": "markdown",
   "metadata": {},
   "source": [
    "    1. 首先进行边界判断：如果len(height) == 0 or 1 or 2：则ans = 0\n",
    "    2. 维护一个单调递减栈stack\n",
    "    3. 若height[idx] > height[stack[-1]]，进行一次出栈操作pop,返回值赋给tmp：tmp = stack.pop()，局部为\"高低高\"\n",
    "    4. 取两个\"高\"的较小值：min(height[idx], height[stack[-1]])，故高度h为 min(height[idx], height[stack[-1]]) - height[tmp]\n",
    "    5. 底dict为两边界下标差：idx - stack[-1] - 1\n",
    "    6. area = dict * h\n",
    "    7. ans += area"
   ]
  },
  {
   "cell_type": "code",
   "execution_count": 9,
   "metadata": {},
   "outputs": [],
   "source": [
    "class Solution:\n",
    "    def trap(self, height):\n",
    "        size = len(height)\n",
    "        stack = []\n",
    "        ans, idx = 0, 0\n",
    "        while idx < size:\n",
    "            while stack and height[idx] > height[stack[-1]]:\n",
    "                tmp = stack.pop()\n",
    "                if len(stack) == 0: break\n",
    "                h = min(height[idx], height[stack[-1]]) - height[tmp]\n",
    "                dict = idx - stack[-1] - 1\n",
    "                ans += dict * h\n",
    "            stack.append(idx) \n",
    "            idx += 1\n",
    "        return ans"
   ]
  },
  {
   "cell_type": "code",
   "execution_count": 10,
   "metadata": {},
   "outputs": [
    {
     "data": {
      "text/plain": [
       "6"
      ]
     },
     "execution_count": 10,
     "metadata": {},
     "output_type": "execute_result"
    }
   ],
   "source": [
    "a = Solution()\n",
    "a.trap([0,1,0,2,1,0,1,3,2,1,2,1])"
   ]
  },
  {
   "cell_type": "code",
   "execution_count": null,
   "metadata": {},
   "outputs": [],
   "source": []
  }
 ],
 "metadata": {
  "kernelspec": {
   "display_name": "Python 3",
   "language": "python",
   "name": "python3"
  },
  "language_info": {
   "codemirror_mode": {
    "name": "ipython",
    "version": 3
   },
   "file_extension": ".py",
   "mimetype": "text/x-python",
   "name": "python",
   "nbconvert_exporter": "python",
   "pygments_lexer": "ipython3",
   "version": "3.7.4"
  }
 },
 "nbformat": 4,
 "nbformat_minor": 2
}
